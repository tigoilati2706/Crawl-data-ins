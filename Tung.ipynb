{
 "cells": [
  {
   "cell_type": "code",
   "execution_count": 1,
   "metadata": {},
   "outputs": [],
   "source": [
    "from selenium import webdriver\n",
    "from selenium.webdriver.common.keys import Keys\n",
    "from selenium.webdriver.support import expected_conditions as EC \n",
    "from selenium.webdriver.common.by import By\n",
    "from selenium.webdriver.support.wait import WebDriverWait"
   ]
  },
  {
   "cell_type": "code",
   "execution_count": 2,
   "metadata": {},
   "outputs": [],
   "source": [
    "import os\n",
    "import wget"
   ]
  },
  {
   "cell_type": "code",
   "execution_count": 6,
   "metadata": {},
   "outputs": [
    {
     "name": "stderr",
     "output_type": "stream",
     "text": [
      "C:\\Users\\DELL\\AppData\\Local\\Temp\\ipykernel_16156\\3763895791.py:1: DeprecationWarning: executable_path has been deprecated, please pass in a Service object\n",
      "  driver =  webdriver.Chrome('D:\\DATA\\Intern 1\\chromedriver.exe')\n"
     ]
    }
   ],
   "source": [
    "driver =  webdriver.Chrome('D:\\DATA\\Intern 1\\chromedriver.exe')\n",
    "driver.get(\"https://www.instagram.com/accounts/login/?next=https%3A%2F%2Fwww.instagram.com%2F%3F__coig_login%3D1\")"
   ]
  },
  {
   "cell_type": "code",
   "execution_count": 7,
   "metadata": {},
   "outputs": [],
   "source": [
    "username = WebDriverWait(driver,10).until(EC.element_to_be_clickable((By.CSS_SELECTOR, \"input[name='username']\")))\n",
    "password = WebDriverWait(driver,10).until(EC.element_to_be_clickable((By.CSS_SELECTOR, \"input[name='password']\")))\n",
    "username.clear()\n",
    "password.clear()\n",
    "username.send_keys(\"\")\n",
    "password.send_keys(\"\")"
   ]
  },
  {
   "cell_type": "code",
   "execution_count": 34,
   "metadata": {},
   "outputs": [],
   "source": [
    "wait = WebDriverWait(driver, 10)"
   ]
  },
  {
   "cell_type": "code",
   "execution_count": 125,
   "metadata": {},
   "outputs": [],
   "source": [
    "log_in = WebDriverWait(driver,10).until(EC.element_to_be_clickable((By.CSS_SELECTOR, \"button[type='submit']\"))).click()"
   ]
  },
  {
   "cell_type": "code",
   "execution_count": 129,
   "metadata": {},
   "outputs": [
    {
     "ename": "InvalidSelectorException",
     "evalue": "Message: invalid selector: Unable to locate an element with the xpath expression //button[contants(text(), 'Not Now')] because of the following error:\nSyntaxError: Failed to execute 'evaluate' on 'Document': The string '//button[contants(text(), 'Not Now')]' is not a valid XPath expression.\n  (Session info: chrome=103.0.5060.134)\nStacktrace:\nBacktrace:\n\tOrdinal0 [0x00D95FD3+2187219]\n\tOrdinal0 [0x00D2E6D1+1763025]\n\tOrdinal0 [0x00C43E78+802424]\n\tOrdinal0 [0x00C46854+813140]\n\tOrdinal0 [0x00C46712+812818]\n\tOrdinal0 [0x00C469A0+813472]\n\tOrdinal0 [0x00C71925+989477]\n\tOrdinal0 [0x00C71EAB+990891]\n\tOrdinal0 [0x00C9EC92+1174674]\n\tOrdinal0 [0x00C8CBD4+1100756]\n\tOrdinal0 [0x00C9CFC2+1167298]\n\tOrdinal0 [0x00C8C9A6+1100198]\n\tOrdinal0 [0x00C66F80+946048]\n\tOrdinal0 [0x00C67E76+949878]\n\tGetHandleVerifier [0x010390C2+2721218]\n\tGetHandleVerifier [0x0102AAF0+2662384]\n\tGetHandleVerifier [0x00E2137A+526458]\n\tGetHandleVerifier [0x00E20416+522518]\n\tOrdinal0 [0x00D34EAB+1789611]\n\tOrdinal0 [0x00D397A8+1808296]\n\tOrdinal0 [0x00D39895+1808533]\n\tOrdinal0 [0x00D426C1+1844929]\n\tBaseThreadInitThunk [0x75DEFA29+25]\n\tRtlGetAppContainerNamedObjectPath [0x770C7A9E+286]\n\tRtlGetAppContainerNamedObjectPath [0x770C7A6E+238]\n",
     "output_type": "error",
     "traceback": [
      "\u001b[1;31m---------------------------------------------------------------------------\u001b[0m",
      "\u001b[1;31mInvalidSelectorException\u001b[0m                  Traceback (most recent call last)",
      "\u001b[1;32md:\\DATA\\Intern 1\\Tung.ipynb Cell 7\u001b[0m in \u001b[0;36m<cell line: 2>\u001b[1;34m()\u001b[0m\n\u001b[0;32m      <a href='vscode-notebook-cell:/d%3A/DATA/Intern%201/Tung.ipynb#ch0000005?line=0'>1</a>\u001b[0m not_now \u001b[39m=\u001b[39m WebDriverWait(driver,\u001b[39m10\u001b[39m)\u001b[39m.\u001b[39muntil(EC\u001b[39m.\u001b[39melement_to_be_clickable((By\u001b[39m.\u001b[39mXPATH, \u001b[39m\"\u001b[39m\u001b[39m//button[contains(text(), \u001b[39m\u001b[39m'\u001b[39m\u001b[39mNot Now\u001b[39m\u001b[39m'\u001b[39m\u001b[39m)]\u001b[39m\u001b[39m\"\u001b[39m)))\u001b[39m.\u001b[39mclick()\n\u001b[1;32m----> <a href='vscode-notebook-cell:/d%3A/DATA/Intern%201/Tung.ipynb#ch0000005?line=1'>2</a>\u001b[0m not_now2 \u001b[39m=\u001b[39m WebDriverWait(driver,\u001b[39m10\u001b[39;49m)\u001b[39m.\u001b[39;49muntil(EC\u001b[39m.\u001b[39;49melement_to_be_clickable((By\u001b[39m.\u001b[39;49mXPATH, \u001b[39m\"\u001b[39;49m\u001b[39m//button[contants(text(), \u001b[39;49m\u001b[39m'\u001b[39;49m\u001b[39mNot Now\u001b[39;49m\u001b[39m'\u001b[39;49m\u001b[39m)]\u001b[39;49m\u001b[39m\"\u001b[39;49m)))\u001b[39m.\u001b[39mclick()\n",
      "File \u001b[1;32mc:\\Users\\DELL\\AppData\\Local\\Programs\\Python\\Python39\\lib\\site-packages\\selenium\\webdriver\\support\\wait.py:81\u001b[0m, in \u001b[0;36mWebDriverWait.until\u001b[1;34m(self, method, message)\u001b[0m\n\u001b[0;32m     79\u001b[0m \u001b[39mwhile\u001b[39;00m \u001b[39mTrue\u001b[39;00m:\n\u001b[0;32m     80\u001b[0m     \u001b[39mtry\u001b[39;00m:\n\u001b[1;32m---> 81\u001b[0m         value \u001b[39m=\u001b[39m method(\u001b[39mself\u001b[39;49m\u001b[39m.\u001b[39;49m_driver)\n\u001b[0;32m     82\u001b[0m         \u001b[39mif\u001b[39;00m value:\n\u001b[0;32m     83\u001b[0m             \u001b[39mreturn\u001b[39;00m value\n",
      "File \u001b[1;32mc:\\Users\\DELL\\AppData\\Local\\Programs\\Python\\Python39\\lib\\site-packages\\selenium\\webdriver\\support\\expected_conditions.py:312\u001b[0m, in \u001b[0;36melement_to_be_clickable.<locals>._predicate\u001b[1;34m(driver)\u001b[0m\n\u001b[0;32m    310\u001b[0m target \u001b[39m=\u001b[39m mark\n\u001b[0;32m    311\u001b[0m \u001b[39mif\u001b[39;00m \u001b[39mnot\u001b[39;00m \u001b[39misinstance\u001b[39m(target, WebElement):  \u001b[39m# if given locator instead of WebElement\u001b[39;00m\n\u001b[1;32m--> 312\u001b[0m     target \u001b[39m=\u001b[39m driver\u001b[39m.\u001b[39;49mfind_element(\u001b[39m*\u001b[39;49mtarget)  \u001b[39m# grab element at locator\u001b[39;00m\n\u001b[0;32m    313\u001b[0m target \u001b[39m=\u001b[39m visibility_of(target)(driver)\n\u001b[0;32m    314\u001b[0m \u001b[39mif\u001b[39;00m target \u001b[39mand\u001b[39;00m target\u001b[39m.\u001b[39mis_enabled():\n",
      "File \u001b[1;32mc:\\Users\\DELL\\AppData\\Local\\Programs\\Python\\Python39\\lib\\site-packages\\selenium\\webdriver\\remote\\webdriver.py:857\u001b[0m, in \u001b[0;36mWebDriver.find_element\u001b[1;34m(self, by, value)\u001b[0m\n\u001b[0;32m    854\u001b[0m     by \u001b[39m=\u001b[39m By\u001b[39m.\u001b[39mCSS_SELECTOR\n\u001b[0;32m    855\u001b[0m     value \u001b[39m=\u001b[39m \u001b[39m'\u001b[39m\u001b[39m[name=\u001b[39m\u001b[39m\"\u001b[39m\u001b[39m%s\u001b[39;00m\u001b[39m\"\u001b[39m\u001b[39m]\u001b[39m\u001b[39m'\u001b[39m \u001b[39m%\u001b[39m value\n\u001b[1;32m--> 857\u001b[0m \u001b[39mreturn\u001b[39;00m \u001b[39mself\u001b[39;49m\u001b[39m.\u001b[39;49mexecute(Command\u001b[39m.\u001b[39;49mFIND_ELEMENT, {\n\u001b[0;32m    858\u001b[0m     \u001b[39m'\u001b[39;49m\u001b[39musing\u001b[39;49m\u001b[39m'\u001b[39;49m: by,\n\u001b[0;32m    859\u001b[0m     \u001b[39m'\u001b[39;49m\u001b[39mvalue\u001b[39;49m\u001b[39m'\u001b[39;49m: value})[\u001b[39m'\u001b[39m\u001b[39mvalue\u001b[39m\u001b[39m'\u001b[39m]\n",
      "File \u001b[1;32mc:\\Users\\DELL\\AppData\\Local\\Programs\\Python\\Python39\\lib\\site-packages\\selenium\\webdriver\\remote\\webdriver.py:435\u001b[0m, in \u001b[0;36mWebDriver.execute\u001b[1;34m(self, driver_command, params)\u001b[0m\n\u001b[0;32m    433\u001b[0m response \u001b[39m=\u001b[39m \u001b[39mself\u001b[39m\u001b[39m.\u001b[39mcommand_executor\u001b[39m.\u001b[39mexecute(driver_command, params)\n\u001b[0;32m    434\u001b[0m \u001b[39mif\u001b[39;00m response:\n\u001b[1;32m--> 435\u001b[0m     \u001b[39mself\u001b[39;49m\u001b[39m.\u001b[39;49merror_handler\u001b[39m.\u001b[39;49mcheck_response(response)\n\u001b[0;32m    436\u001b[0m     response[\u001b[39m'\u001b[39m\u001b[39mvalue\u001b[39m\u001b[39m'\u001b[39m] \u001b[39m=\u001b[39m \u001b[39mself\u001b[39m\u001b[39m.\u001b[39m_unwrap_value(\n\u001b[0;32m    437\u001b[0m         response\u001b[39m.\u001b[39mget(\u001b[39m'\u001b[39m\u001b[39mvalue\u001b[39m\u001b[39m'\u001b[39m, \u001b[39mNone\u001b[39;00m))\n\u001b[0;32m    438\u001b[0m     \u001b[39mreturn\u001b[39;00m response\n",
      "File \u001b[1;32mc:\\Users\\DELL\\AppData\\Local\\Programs\\Python\\Python39\\lib\\site-packages\\selenium\\webdriver\\remote\\errorhandler.py:247\u001b[0m, in \u001b[0;36mErrorHandler.check_response\u001b[1;34m(self, response)\u001b[0m\n\u001b[0;32m    245\u001b[0m         alert_text \u001b[39m=\u001b[39m value[\u001b[39m'\u001b[39m\u001b[39malert\u001b[39m\u001b[39m'\u001b[39m]\u001b[39m.\u001b[39mget(\u001b[39m'\u001b[39m\u001b[39mtext\u001b[39m\u001b[39m'\u001b[39m)\n\u001b[0;32m    246\u001b[0m     \u001b[39mraise\u001b[39;00m exception_class(message, screen, stacktrace, alert_text)  \u001b[39m# type: ignore[call-arg]  # mypy is not smart enough here\u001b[39;00m\n\u001b[1;32m--> 247\u001b[0m \u001b[39mraise\u001b[39;00m exception_class(message, screen, stacktrace)\n",
      "\u001b[1;31mInvalidSelectorException\u001b[0m: Message: invalid selector: Unable to locate an element with the xpath expression //button[contants(text(), 'Not Now')] because of the following error:\nSyntaxError: Failed to execute 'evaluate' on 'Document': The string '//button[contants(text(), 'Not Now')]' is not a valid XPath expression.\n  (Session info: chrome=103.0.5060.134)\nStacktrace:\nBacktrace:\n\tOrdinal0 [0x00D95FD3+2187219]\n\tOrdinal0 [0x00D2E6D1+1763025]\n\tOrdinal0 [0x00C43E78+802424]\n\tOrdinal0 [0x00C46854+813140]\n\tOrdinal0 [0x00C46712+812818]\n\tOrdinal0 [0x00C469A0+813472]\n\tOrdinal0 [0x00C71925+989477]\n\tOrdinal0 [0x00C71EAB+990891]\n\tOrdinal0 [0x00C9EC92+1174674]\n\tOrdinal0 [0x00C8CBD4+1100756]\n\tOrdinal0 [0x00C9CFC2+1167298]\n\tOrdinal0 [0x00C8C9A6+1100198]\n\tOrdinal0 [0x00C66F80+946048]\n\tOrdinal0 [0x00C67E76+949878]\n\tGetHandleVerifier [0x010390C2+2721218]\n\tGetHandleVerifier [0x0102AAF0+2662384]\n\tGetHandleVerifier [0x00E2137A+526458]\n\tGetHandleVerifier [0x00E20416+522518]\n\tOrdinal0 [0x00D34EAB+1789611]\n\tOrdinal0 [0x00D397A8+1808296]\n\tOrdinal0 [0x00D39895+1808533]\n\tOrdinal0 [0x00D426C1+1844929]\n\tBaseThreadInitThunk [0x75DEFA29+25]\n\tRtlGetAppContainerNamedObjectPath [0x770C7A9E+286]\n\tRtlGetAppContainerNamedObjectPath [0x770C7A6E+238]\n"
     ]
    }
   ],
   "source": [
    "not_now = WebDriverWait(driver,10).until(EC.element_to_be_clickable((By.XPATH, \"//button[contains(text(), 'Not Now')]\"))).click()\n",
    "not_now2 = WebDriverWait(driver,10).until(EC.element_to_be_clickable((By.XPATH, \"//button[contants(text(), 'Not Now')]\"))).click()\n"
   ]
  },
  {
   "cell_type": "code",
   "execution_count": 128,
   "metadata": {},
   "outputs": [
    {
     "ename": "InvalidSelectorException",
     "evalue": "Message: invalid selector: Unable to locate an element with the xpath expression //button[contants(text(), 'Not Now')] because of the following error:\nSyntaxError: Failed to execute 'evaluate' on 'Document': The string '//button[contants(text(), 'Not Now')]' is not a valid XPath expression.\n  (Session info: chrome=103.0.5060.134)\nStacktrace:\nBacktrace:\n\tOrdinal0 [0x00D95FD3+2187219]\n\tOrdinal0 [0x00D2E6D1+1763025]\n\tOrdinal0 [0x00C43E78+802424]\n\tOrdinal0 [0x00C46854+813140]\n\tOrdinal0 [0x00C46712+812818]\n\tOrdinal0 [0x00C469A0+813472]\n\tOrdinal0 [0x00C71925+989477]\n\tOrdinal0 [0x00C71EAB+990891]\n\tOrdinal0 [0x00C9EC92+1174674]\n\tOrdinal0 [0x00C8CBD4+1100756]\n\tOrdinal0 [0x00C9CFC2+1167298]\n\tOrdinal0 [0x00C8C9A6+1100198]\n\tOrdinal0 [0x00C66F80+946048]\n\tOrdinal0 [0x00C67E76+949878]\n\tGetHandleVerifier [0x010390C2+2721218]\n\tGetHandleVerifier [0x0102AAF0+2662384]\n\tGetHandleVerifier [0x00E2137A+526458]\n\tGetHandleVerifier [0x00E20416+522518]\n\tOrdinal0 [0x00D34EAB+1789611]\n\tOrdinal0 [0x00D397A8+1808296]\n\tOrdinal0 [0x00D39895+1808533]\n\tOrdinal0 [0x00D426C1+1844929]\n\tBaseThreadInitThunk [0x75DEFA29+25]\n\tRtlGetAppContainerNamedObjectPath [0x770C7A9E+286]\n\tRtlGetAppContainerNamedObjectPath [0x770C7A6E+238]\n",
     "output_type": "error",
     "traceback": [
      "\u001b[1;31m---------------------------------------------------------------------------\u001b[0m",
      "\u001b[1;31mInvalidSelectorException\u001b[0m                  Traceback (most recent call last)",
      "\u001b[1;32md:\\DATA\\Intern 1\\Tung.ipynb Cell 8\u001b[0m in \u001b[0;36m<cell line: 1>\u001b[1;34m()\u001b[0m\n\u001b[1;32m----> <a href='vscode-notebook-cell:/d%3A/DATA/Intern%201/Tung.ipynb#ch0000010?line=0'>1</a>\u001b[0m not_now2 \u001b[39m=\u001b[39m WebDriverWait(driver,\u001b[39m10\u001b[39;49m)\u001b[39m.\u001b[39;49muntil(EC\u001b[39m.\u001b[39;49melement_to_be_clickable((By\u001b[39m.\u001b[39;49mXPATH, \u001b[39m\"\u001b[39;49m\u001b[39m//button[contants(text(), \u001b[39;49m\u001b[39m'\u001b[39;49m\u001b[39mNot Now\u001b[39;49m\u001b[39m'\u001b[39;49m\u001b[39m)]\u001b[39;49m\u001b[39m\"\u001b[39;49m)))\u001b[39m.\u001b[39mclick()\n",
      "File \u001b[1;32mc:\\Users\\DELL\\AppData\\Local\\Programs\\Python\\Python39\\lib\\site-packages\\selenium\\webdriver\\support\\wait.py:81\u001b[0m, in \u001b[0;36mWebDriverWait.until\u001b[1;34m(self, method, message)\u001b[0m\n\u001b[0;32m     79\u001b[0m \u001b[39mwhile\u001b[39;00m \u001b[39mTrue\u001b[39;00m:\n\u001b[0;32m     80\u001b[0m     \u001b[39mtry\u001b[39;00m:\n\u001b[1;32m---> 81\u001b[0m         value \u001b[39m=\u001b[39m method(\u001b[39mself\u001b[39;49m\u001b[39m.\u001b[39;49m_driver)\n\u001b[0;32m     82\u001b[0m         \u001b[39mif\u001b[39;00m value:\n\u001b[0;32m     83\u001b[0m             \u001b[39mreturn\u001b[39;00m value\n",
      "File \u001b[1;32mc:\\Users\\DELL\\AppData\\Local\\Programs\\Python\\Python39\\lib\\site-packages\\selenium\\webdriver\\support\\expected_conditions.py:312\u001b[0m, in \u001b[0;36melement_to_be_clickable.<locals>._predicate\u001b[1;34m(driver)\u001b[0m\n\u001b[0;32m    310\u001b[0m target \u001b[39m=\u001b[39m mark\n\u001b[0;32m    311\u001b[0m \u001b[39mif\u001b[39;00m \u001b[39mnot\u001b[39;00m \u001b[39misinstance\u001b[39m(target, WebElement):  \u001b[39m# if given locator instead of WebElement\u001b[39;00m\n\u001b[1;32m--> 312\u001b[0m     target \u001b[39m=\u001b[39m driver\u001b[39m.\u001b[39;49mfind_element(\u001b[39m*\u001b[39;49mtarget)  \u001b[39m# grab element at locator\u001b[39;00m\n\u001b[0;32m    313\u001b[0m target \u001b[39m=\u001b[39m visibility_of(target)(driver)\n\u001b[0;32m    314\u001b[0m \u001b[39mif\u001b[39;00m target \u001b[39mand\u001b[39;00m target\u001b[39m.\u001b[39mis_enabled():\n",
      "File \u001b[1;32mc:\\Users\\DELL\\AppData\\Local\\Programs\\Python\\Python39\\lib\\site-packages\\selenium\\webdriver\\remote\\webdriver.py:857\u001b[0m, in \u001b[0;36mWebDriver.find_element\u001b[1;34m(self, by, value)\u001b[0m\n\u001b[0;32m    854\u001b[0m     by \u001b[39m=\u001b[39m By\u001b[39m.\u001b[39mCSS_SELECTOR\n\u001b[0;32m    855\u001b[0m     value \u001b[39m=\u001b[39m \u001b[39m'\u001b[39m\u001b[39m[name=\u001b[39m\u001b[39m\"\u001b[39m\u001b[39m%s\u001b[39;00m\u001b[39m\"\u001b[39m\u001b[39m]\u001b[39m\u001b[39m'\u001b[39m \u001b[39m%\u001b[39m value\n\u001b[1;32m--> 857\u001b[0m \u001b[39mreturn\u001b[39;00m \u001b[39mself\u001b[39;49m\u001b[39m.\u001b[39;49mexecute(Command\u001b[39m.\u001b[39;49mFIND_ELEMENT, {\n\u001b[0;32m    858\u001b[0m     \u001b[39m'\u001b[39;49m\u001b[39musing\u001b[39;49m\u001b[39m'\u001b[39;49m: by,\n\u001b[0;32m    859\u001b[0m     \u001b[39m'\u001b[39;49m\u001b[39mvalue\u001b[39;49m\u001b[39m'\u001b[39;49m: value})[\u001b[39m'\u001b[39m\u001b[39mvalue\u001b[39m\u001b[39m'\u001b[39m]\n",
      "File \u001b[1;32mc:\\Users\\DELL\\AppData\\Local\\Programs\\Python\\Python39\\lib\\site-packages\\selenium\\webdriver\\remote\\webdriver.py:435\u001b[0m, in \u001b[0;36mWebDriver.execute\u001b[1;34m(self, driver_command, params)\u001b[0m\n\u001b[0;32m    433\u001b[0m response \u001b[39m=\u001b[39m \u001b[39mself\u001b[39m\u001b[39m.\u001b[39mcommand_executor\u001b[39m.\u001b[39mexecute(driver_command, params)\n\u001b[0;32m    434\u001b[0m \u001b[39mif\u001b[39;00m response:\n\u001b[1;32m--> 435\u001b[0m     \u001b[39mself\u001b[39;49m\u001b[39m.\u001b[39;49merror_handler\u001b[39m.\u001b[39;49mcheck_response(response)\n\u001b[0;32m    436\u001b[0m     response[\u001b[39m'\u001b[39m\u001b[39mvalue\u001b[39m\u001b[39m'\u001b[39m] \u001b[39m=\u001b[39m \u001b[39mself\u001b[39m\u001b[39m.\u001b[39m_unwrap_value(\n\u001b[0;32m    437\u001b[0m         response\u001b[39m.\u001b[39mget(\u001b[39m'\u001b[39m\u001b[39mvalue\u001b[39m\u001b[39m'\u001b[39m, \u001b[39mNone\u001b[39;00m))\n\u001b[0;32m    438\u001b[0m     \u001b[39mreturn\u001b[39;00m response\n",
      "File \u001b[1;32mc:\\Users\\DELL\\AppData\\Local\\Programs\\Python\\Python39\\lib\\site-packages\\selenium\\webdriver\\remote\\errorhandler.py:247\u001b[0m, in \u001b[0;36mErrorHandler.check_response\u001b[1;34m(self, response)\u001b[0m\n\u001b[0;32m    245\u001b[0m         alert_text \u001b[39m=\u001b[39m value[\u001b[39m'\u001b[39m\u001b[39malert\u001b[39m\u001b[39m'\u001b[39m]\u001b[39m.\u001b[39mget(\u001b[39m'\u001b[39m\u001b[39mtext\u001b[39m\u001b[39m'\u001b[39m)\n\u001b[0;32m    246\u001b[0m     \u001b[39mraise\u001b[39;00m exception_class(message, screen, stacktrace, alert_text)  \u001b[39m# type: ignore[call-arg]  # mypy is not smart enough here\u001b[39;00m\n\u001b[1;32m--> 247\u001b[0m \u001b[39mraise\u001b[39;00m exception_class(message, screen, stacktrace)\n",
      "\u001b[1;31mInvalidSelectorException\u001b[0m: Message: invalid selector: Unable to locate an element with the xpath expression //button[contants(text(), 'Not Now')] because of the following error:\nSyntaxError: Failed to execute 'evaluate' on 'Document': The string '//button[contants(text(), 'Not Now')]' is not a valid XPath expression.\n  (Session info: chrome=103.0.5060.134)\nStacktrace:\nBacktrace:\n\tOrdinal0 [0x00D95FD3+2187219]\n\tOrdinal0 [0x00D2E6D1+1763025]\n\tOrdinal0 [0x00C43E78+802424]\n\tOrdinal0 [0x00C46854+813140]\n\tOrdinal0 [0x00C46712+812818]\n\tOrdinal0 [0x00C469A0+813472]\n\tOrdinal0 [0x00C71925+989477]\n\tOrdinal0 [0x00C71EAB+990891]\n\tOrdinal0 [0x00C9EC92+1174674]\n\tOrdinal0 [0x00C8CBD4+1100756]\n\tOrdinal0 [0x00C9CFC2+1167298]\n\tOrdinal0 [0x00C8C9A6+1100198]\n\tOrdinal0 [0x00C66F80+946048]\n\tOrdinal0 [0x00C67E76+949878]\n\tGetHandleVerifier [0x010390C2+2721218]\n\tGetHandleVerifier [0x0102AAF0+2662384]\n\tGetHandleVerifier [0x00E2137A+526458]\n\tGetHandleVerifier [0x00E20416+522518]\n\tOrdinal0 [0x00D34EAB+1789611]\n\tOrdinal0 [0x00D397A8+1808296]\n\tOrdinal0 [0x00D39895+1808533]\n\tOrdinal0 [0x00D426C1+1844929]\n\tBaseThreadInitThunk [0x75DEFA29+25]\n\tRtlGetAppContainerNamedObjectPath [0x770C7A9E+286]\n\tRtlGetAppContainerNamedObjectPath [0x770C7A6E+238]\n"
     ]
    }
   ],
   "source": [
    "not_now2 = WebDriverWait(driver,10).until(EC.element_to_be_clickable((By.XPATH, \"//button[contants(text(), 'Not Now')]\"))).click()"
   ]
  },
  {
   "cell_type": "code",
   "execution_count": 130,
   "metadata": {},
   "outputs": [],
   "source": [
    "searchbox = WebDriverWait(driver,10).until(EC.element_to_be_clickable((By.XPATH,\"//input[@placeholder='Search']\")))\n",
    "searchbox.clear()\n",
    "keyword=\"#Crush\"\n",
    "searchbox.send_keys(keyword)"
   ]
  },
  {
   "cell_type": "code",
   "execution_count": 133,
   "metadata": {},
   "outputs": [
    {
     "ename": "StaleElementReferenceException",
     "evalue": "Message: stale element reference: element is not attached to the page document\n  (Session info: chrome=103.0.5060.134)\nStacktrace:\nBacktrace:\n\tOrdinal0 [0x00D95FD3+2187219]\n\tOrdinal0 [0x00D2E6D1+1763025]\n\tOrdinal0 [0x00C43E78+802424]\n\tOrdinal0 [0x00C46854+813140]\n\tOrdinal0 [0x00C46712+812818]\n\tOrdinal0 [0x00C469A0+813472]\n\tOrdinal0 [0x00C726D6+992982]\n\tOrdinal0 [0x00C727B4+993204]\n\tOrdinal0 [0x00C6B039+962617]\n\tOrdinal0 [0x00C8CB8C+1100684]\n\tOrdinal0 [0x00C68394+951188]\n\tOrdinal0 [0x00C8CDA4+1101220]\n\tOrdinal0 [0x00C9CFC2+1167298]\n\tOrdinal0 [0x00C8C9A6+1100198]\n\tOrdinal0 [0x00C66F80+946048]\n\tOrdinal0 [0x00C67E76+949878]\n\tGetHandleVerifier [0x010390C2+2721218]\n\tGetHandleVerifier [0x0102AAF0+2662384]\n\tGetHandleVerifier [0x00E2137A+526458]\n\tGetHandleVerifier [0x00E20416+522518]\n\tOrdinal0 [0x00D34EAB+1789611]\n\tOrdinal0 [0x00D397A8+1808296]\n\tOrdinal0 [0x00D39895+1808533]\n\tOrdinal0 [0x00D426C1+1844929]\n\tBaseThreadInitThunk [0x75DEFA29+25]\n\tRtlGetAppContainerNamedObjectPath [0x770C7A9E+286]\n\tRtlGetAppContainerNamedObjectPath [0x770C7A6E+238]\n",
     "output_type": "error",
     "traceback": [
      "\u001b[1;31m---------------------------------------------------------------------------\u001b[0m",
      "\u001b[1;31mStaleElementReferenceException\u001b[0m            Traceback (most recent call last)",
      "\u001b[1;32md:\\DATA\\Intern 1\\Tung.ipynb Cell 10\u001b[0m in \u001b[0;36m<cell line: 1>\u001b[1;34m()\u001b[0m\n\u001b[1;32m----> <a href='vscode-notebook-cell:/d%3A/DATA/Intern%201/Tung.ipynb#ch0000008?line=0'>1</a>\u001b[0m searchbox\u001b[39m.\u001b[39;49msend_keys(Keys\u001b[39m.\u001b[39;49mENTER)\n",
      "File \u001b[1;32mc:\\Users\\DELL\\AppData\\Local\\Programs\\Python\\Python39\\lib\\site-packages\\selenium\\webdriver\\remote\\webelement.py:223\u001b[0m, in \u001b[0;36mWebElement.send_keys\u001b[1;34m(self, *value)\u001b[0m\n\u001b[0;32m    220\u001b[0m             remote_files\u001b[39m.\u001b[39mappend(\u001b[39mself\u001b[39m\u001b[39m.\u001b[39m_upload(file))\n\u001b[0;32m    221\u001b[0m         value \u001b[39m=\u001b[39m \u001b[39m'\u001b[39m\u001b[39m\\n\u001b[39;00m\u001b[39m'\u001b[39m\u001b[39m.\u001b[39mjoin(remote_files)\n\u001b[1;32m--> 223\u001b[0m \u001b[39mself\u001b[39;49m\u001b[39m.\u001b[39;49m_execute(Command\u001b[39m.\u001b[39;49mSEND_KEYS_TO_ELEMENT,\n\u001b[0;32m    224\u001b[0m               {\u001b[39m'\u001b[39;49m\u001b[39mtext\u001b[39;49m\u001b[39m'\u001b[39;49m: \u001b[39m\"\u001b[39;49m\u001b[39m\"\u001b[39;49m\u001b[39m.\u001b[39;49mjoin(keys_to_typing(value)),\n\u001b[0;32m    225\u001b[0m                \u001b[39m'\u001b[39;49m\u001b[39mvalue\u001b[39;49m\u001b[39m'\u001b[39;49m: keys_to_typing(value)})\n",
      "File \u001b[1;32mc:\\Users\\DELL\\AppData\\Local\\Programs\\Python\\Python39\\lib\\site-packages\\selenium\\webdriver\\remote\\webelement.py:396\u001b[0m, in \u001b[0;36mWebElement._execute\u001b[1;34m(self, command, params)\u001b[0m\n\u001b[0;32m    394\u001b[0m     params \u001b[39m=\u001b[39m {}\n\u001b[0;32m    395\u001b[0m params[\u001b[39m'\u001b[39m\u001b[39mid\u001b[39m\u001b[39m'\u001b[39m] \u001b[39m=\u001b[39m \u001b[39mself\u001b[39m\u001b[39m.\u001b[39m_id\n\u001b[1;32m--> 396\u001b[0m \u001b[39mreturn\u001b[39;00m \u001b[39mself\u001b[39;49m\u001b[39m.\u001b[39;49m_parent\u001b[39m.\u001b[39;49mexecute(command, params)\n",
      "File \u001b[1;32mc:\\Users\\DELL\\AppData\\Local\\Programs\\Python\\Python39\\lib\\site-packages\\selenium\\webdriver\\remote\\webdriver.py:435\u001b[0m, in \u001b[0;36mWebDriver.execute\u001b[1;34m(self, driver_command, params)\u001b[0m\n\u001b[0;32m    433\u001b[0m response \u001b[39m=\u001b[39m \u001b[39mself\u001b[39m\u001b[39m.\u001b[39mcommand_executor\u001b[39m.\u001b[39mexecute(driver_command, params)\n\u001b[0;32m    434\u001b[0m \u001b[39mif\u001b[39;00m response:\n\u001b[1;32m--> 435\u001b[0m     \u001b[39mself\u001b[39;49m\u001b[39m.\u001b[39;49merror_handler\u001b[39m.\u001b[39;49mcheck_response(response)\n\u001b[0;32m    436\u001b[0m     response[\u001b[39m'\u001b[39m\u001b[39mvalue\u001b[39m\u001b[39m'\u001b[39m] \u001b[39m=\u001b[39m \u001b[39mself\u001b[39m\u001b[39m.\u001b[39m_unwrap_value(\n\u001b[0;32m    437\u001b[0m         response\u001b[39m.\u001b[39mget(\u001b[39m'\u001b[39m\u001b[39mvalue\u001b[39m\u001b[39m'\u001b[39m, \u001b[39mNone\u001b[39;00m))\n\u001b[0;32m    438\u001b[0m     \u001b[39mreturn\u001b[39;00m response\n",
      "File \u001b[1;32mc:\\Users\\DELL\\AppData\\Local\\Programs\\Python\\Python39\\lib\\site-packages\\selenium\\webdriver\\remote\\errorhandler.py:247\u001b[0m, in \u001b[0;36mErrorHandler.check_response\u001b[1;34m(self, response)\u001b[0m\n\u001b[0;32m    245\u001b[0m         alert_text \u001b[39m=\u001b[39m value[\u001b[39m'\u001b[39m\u001b[39malert\u001b[39m\u001b[39m'\u001b[39m]\u001b[39m.\u001b[39mget(\u001b[39m'\u001b[39m\u001b[39mtext\u001b[39m\u001b[39m'\u001b[39m)\n\u001b[0;32m    246\u001b[0m     \u001b[39mraise\u001b[39;00m exception_class(message, screen, stacktrace, alert_text)  \u001b[39m# type: ignore[call-arg]  # mypy is not smart enough here\u001b[39;00m\n\u001b[1;32m--> 247\u001b[0m \u001b[39mraise\u001b[39;00m exception_class(message, screen, stacktrace)\n",
      "\u001b[1;31mStaleElementReferenceException\u001b[0m: Message: stale element reference: element is not attached to the page document\n  (Session info: chrome=103.0.5060.134)\nStacktrace:\nBacktrace:\n\tOrdinal0 [0x00D95FD3+2187219]\n\tOrdinal0 [0x00D2E6D1+1763025]\n\tOrdinal0 [0x00C43E78+802424]\n\tOrdinal0 [0x00C46854+813140]\n\tOrdinal0 [0x00C46712+812818]\n\tOrdinal0 [0x00C469A0+813472]\n\tOrdinal0 [0x00C726D6+992982]\n\tOrdinal0 [0x00C727B4+993204]\n\tOrdinal0 [0x00C6B039+962617]\n\tOrdinal0 [0x00C8CB8C+1100684]\n\tOrdinal0 [0x00C68394+951188]\n\tOrdinal0 [0x00C8CDA4+1101220]\n\tOrdinal0 [0x00C9CFC2+1167298]\n\tOrdinal0 [0x00C8C9A6+1100198]\n\tOrdinal0 [0x00C66F80+946048]\n\tOrdinal0 [0x00C67E76+949878]\n\tGetHandleVerifier [0x010390C2+2721218]\n\tGetHandleVerifier [0x0102AAF0+2662384]\n\tGetHandleVerifier [0x00E2137A+526458]\n\tGetHandleVerifier [0x00E20416+522518]\n\tOrdinal0 [0x00D34EAB+1789611]\n\tOrdinal0 [0x00D397A8+1808296]\n\tOrdinal0 [0x00D39895+1808533]\n\tOrdinal0 [0x00D426C1+1844929]\n\tBaseThreadInitThunk [0x75DEFA29+25]\n\tRtlGetAppContainerNamedObjectPath [0x770C7A9E+286]\n\tRtlGetAppContainerNamedObjectPath [0x770C7A6E+238]\n"
     ]
    }
   ],
   "source": [
    "searchbox.send_keys(Keys.ENTER)"
   ]
  },
  {
   "cell_type": "code",
   "execution_count": 120,
   "metadata": {},
   "outputs": [
    {
     "ename": "JavascriptException",
     "evalue": "Message: javascript error: window.scrollto is not a function\n  (Session info: chrome=103.0.5060.134)\nStacktrace:\nBacktrace:\n\tOrdinal0 [0x00D95FD3+2187219]\n\tOrdinal0 [0x00D2E6D1+1763025]\n\tOrdinal0 [0x00C43E78+802424]\n\tOrdinal0 [0x00C46854+813140]\n\tOrdinal0 [0x00C46712+812818]\n\tOrdinal0 [0x00C4708A+815242]\n\tOrdinal0 [0x00C9D9F9+1169913]\n\tOrdinal0 [0x00C8CB8C+1100684]\n\tOrdinal0 [0x00C9CFC2+1167298]\n\tOrdinal0 [0x00C8C9A6+1100198]\n\tOrdinal0 [0x00C66F80+946048]\n\tOrdinal0 [0x00C67E76+949878]\n\tGetHandleVerifier [0x010390C2+2721218]\n\tGetHandleVerifier [0x0102AAF0+2662384]\n\tGetHandleVerifier [0x00E2137A+526458]\n\tGetHandleVerifier [0x00E20416+522518]\n\tOrdinal0 [0x00D34EAB+1789611]\n\tOrdinal0 [0x00D397A8+1808296]\n\tOrdinal0 [0x00D39895+1808533]\n\tOrdinal0 [0x00D426C1+1844929]\n\tBaseThreadInitThunk [0x75DEFA29+25]\n\tRtlGetAppContainerNamedObjectPath [0x770C7A9E+286]\n\tRtlGetAppContainerNamedObjectPath [0x770C7A6E+238]\n",
     "output_type": "error",
     "traceback": [
      "\u001b[1;31m---------------------------------------------------------------------------\u001b[0m",
      "\u001b[1;31mJavascriptException\u001b[0m                       Traceback (most recent call last)",
      "\u001b[1;32md:\\DATA\\Intern 1\\Tung.ipynb Cell 10\u001b[0m in \u001b[0;36m<cell line: 1>\u001b[1;34m()\u001b[0m\n\u001b[1;32m----> <a href='vscode-notebook-cell:/d%3A/DATA/Intern%201/Tung.ipynb#ch0000009?line=0'>1</a>\u001b[0m driver\u001b[39m.\u001b[39;49mexecute_script(\u001b[39m\"\u001b[39;49m\u001b[39mwindow.scrollto(0,4000);\u001b[39;49m\u001b[39m\"\u001b[39;49m)\n\u001b[0;32m      <a href='vscode-notebook-cell:/d%3A/DATA/Intern%201/Tung.ipynb#ch0000009?line=1'>2</a>\u001b[0m images \u001b[39m=\u001b[39m driver\u001b[39m.\u001b[39mfine_elenment_by_tag_name(\u001b[39m'\u001b[39m\u001b[39mimg\u001b[39m\u001b[39m'\u001b[39m)\n\u001b[0;32m      <a href='vscode-notebook-cell:/d%3A/DATA/Intern%201/Tung.ipynb#ch0000009?line=2'>3</a>\u001b[0m images \u001b[39m=\u001b[39m [image\u001b[39m.\u001b[39mget_attribute(\u001b[39m'\u001b[39m\u001b[39msrc\u001b[39m\u001b[39m'\u001b[39m) \u001b[39mfor\u001b[39;00m image \u001b[39min\u001b[39;00m images]\n",
      "File \u001b[1;32mc:\\Users\\DELL\\AppData\\Local\\Programs\\Python\\Python39\\lib\\site-packages\\selenium\\webdriver\\remote\\webdriver.py:493\u001b[0m, in \u001b[0;36mWebDriver.execute_script\u001b[1;34m(self, script, *args)\u001b[0m\n\u001b[0;32m    490\u001b[0m converted_args \u001b[39m=\u001b[39m \u001b[39mlist\u001b[39m(args)\n\u001b[0;32m    491\u001b[0m command \u001b[39m=\u001b[39m Command\u001b[39m.\u001b[39mW3C_EXECUTE_SCRIPT\n\u001b[1;32m--> 493\u001b[0m \u001b[39mreturn\u001b[39;00m \u001b[39mself\u001b[39;49m\u001b[39m.\u001b[39;49mexecute(command, {\n\u001b[0;32m    494\u001b[0m     \u001b[39m'\u001b[39;49m\u001b[39mscript\u001b[39;49m\u001b[39m'\u001b[39;49m: script,\n\u001b[0;32m    495\u001b[0m     \u001b[39m'\u001b[39;49m\u001b[39margs\u001b[39;49m\u001b[39m'\u001b[39;49m: converted_args})[\u001b[39m'\u001b[39m\u001b[39mvalue\u001b[39m\u001b[39m'\u001b[39m]\n",
      "File \u001b[1;32mc:\\Users\\DELL\\AppData\\Local\\Programs\\Python\\Python39\\lib\\site-packages\\selenium\\webdriver\\remote\\webdriver.py:435\u001b[0m, in \u001b[0;36mWebDriver.execute\u001b[1;34m(self, driver_command, params)\u001b[0m\n\u001b[0;32m    433\u001b[0m response \u001b[39m=\u001b[39m \u001b[39mself\u001b[39m\u001b[39m.\u001b[39mcommand_executor\u001b[39m.\u001b[39mexecute(driver_command, params)\n\u001b[0;32m    434\u001b[0m \u001b[39mif\u001b[39;00m response:\n\u001b[1;32m--> 435\u001b[0m     \u001b[39mself\u001b[39;49m\u001b[39m.\u001b[39;49merror_handler\u001b[39m.\u001b[39;49mcheck_response(response)\n\u001b[0;32m    436\u001b[0m     response[\u001b[39m'\u001b[39m\u001b[39mvalue\u001b[39m\u001b[39m'\u001b[39m] \u001b[39m=\u001b[39m \u001b[39mself\u001b[39m\u001b[39m.\u001b[39m_unwrap_value(\n\u001b[0;32m    437\u001b[0m         response\u001b[39m.\u001b[39mget(\u001b[39m'\u001b[39m\u001b[39mvalue\u001b[39m\u001b[39m'\u001b[39m, \u001b[39mNone\u001b[39;00m))\n\u001b[0;32m    438\u001b[0m     \u001b[39mreturn\u001b[39;00m response\n",
      "File \u001b[1;32mc:\\Users\\DELL\\AppData\\Local\\Programs\\Python\\Python39\\lib\\site-packages\\selenium\\webdriver\\remote\\errorhandler.py:247\u001b[0m, in \u001b[0;36mErrorHandler.check_response\u001b[1;34m(self, response)\u001b[0m\n\u001b[0;32m    245\u001b[0m         alert_text \u001b[39m=\u001b[39m value[\u001b[39m'\u001b[39m\u001b[39malert\u001b[39m\u001b[39m'\u001b[39m]\u001b[39m.\u001b[39mget(\u001b[39m'\u001b[39m\u001b[39mtext\u001b[39m\u001b[39m'\u001b[39m)\n\u001b[0;32m    246\u001b[0m     \u001b[39mraise\u001b[39;00m exception_class(message, screen, stacktrace, alert_text)  \u001b[39m# type: ignore[call-arg]  # mypy is not smart enough here\u001b[39;00m\n\u001b[1;32m--> 247\u001b[0m \u001b[39mraise\u001b[39;00m exception_class(message, screen, stacktrace)\n",
      "\u001b[1;31mJavascriptException\u001b[0m: Message: javascript error: window.scrollto is not a function\n  (Session info: chrome=103.0.5060.134)\nStacktrace:\nBacktrace:\n\tOrdinal0 [0x00D95FD3+2187219]\n\tOrdinal0 [0x00D2E6D1+1763025]\n\tOrdinal0 [0x00C43E78+802424]\n\tOrdinal0 [0x00C46854+813140]\n\tOrdinal0 [0x00C46712+812818]\n\tOrdinal0 [0x00C4708A+815242]\n\tOrdinal0 [0x00C9D9F9+1169913]\n\tOrdinal0 [0x00C8CB8C+1100684]\n\tOrdinal0 [0x00C9CFC2+1167298]\n\tOrdinal0 [0x00C8C9A6+1100198]\n\tOrdinal0 [0x00C66F80+946048]\n\tOrdinal0 [0x00C67E76+949878]\n\tGetHandleVerifier [0x010390C2+2721218]\n\tGetHandleVerifier [0x0102AAF0+2662384]\n\tGetHandleVerifier [0x00E2137A+526458]\n\tGetHandleVerifier [0x00E20416+522518]\n\tOrdinal0 [0x00D34EAB+1789611]\n\tOrdinal0 [0x00D397A8+1808296]\n\tOrdinal0 [0x00D39895+1808533]\n\tOrdinal0 [0x00D426C1+1844929]\n\tBaseThreadInitThunk [0x75DEFA29+25]\n\tRtlGetAppContainerNamedObjectPath [0x770C7A9E+286]\n\tRtlGetAppContainerNamedObjectPath [0x770C7A6E+238]\n"
     ]
    }
   ],
   "source": [
    "driver.execute_script(\"window.scrollto(0,4000);\")\n",
    "images = driver.fine_elenment_by_tag_name('img')\n",
    "images = [image.get_attribute('src') for image in images]"
   ]
  }
 ],
 "metadata": {
  "kernelspec": {
   "display_name": "Python 3.9.13 64-bit",
   "language": "python",
   "name": "python3"
  },
  "language_info": {
   "codemirror_mode": {
    "name": "ipython",
    "version": 3
   },
   "file_extension": ".py",
   "mimetype": "text/x-python",
   "name": "python",
   "nbconvert_exporter": "python",
   "pygments_lexer": "ipython3",
   "version": "3.9.13"
  },
  "orig_nbformat": 4,
  "vscode": {
   "interpreter": {
    "hash": "5addf786bcd861d1ce5006f23111f8cbb206731e5b61b0a5632ba9e0252558a8"
   }
  }
 },
 "nbformat": 4,
 "nbformat_minor": 2
}
